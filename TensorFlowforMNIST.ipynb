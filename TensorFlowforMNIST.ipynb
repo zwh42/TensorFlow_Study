{
 "cells": [
  {
   "cell_type": "markdown",
   "metadata": {},
   "source": [
    "## TensorFlow for MNIST "
   ]
  },
  {
   "cell_type": "code",
   "execution_count": 3,
   "metadata": {
    "collapsed": false
   },
   "outputs": [
    {
     "name": "stdout",
     "output_type": "stream",
     "text": [
      "Extracting .\\train-images-idx3-ubyte.gz\n",
      "Extracting .\\train-labels-idx1-ubyte.gz\n",
      "Extracting .\\t10k-images-idx3-ubyte.gz\n",
      "Extracting .\\t10k-labels-idx1-ubyte.gz\n",
      "Epoch: 0001 cost= 28.422950745\n",
      "Epoch: 0002 cost= 23.152032852\n",
      "Epoch: 0003 cost= 19.868301392\n",
      "Epoch: 0004 cost= 21.407157898\n",
      "Epoch: 0005 cost= 14.222517967\n",
      "Epoch: 0006 cost= 14.280755043\n",
      "Epoch: 0007 cost= 15.863114357\n",
      "Epoch: 0008 cost= 12.589605331\n",
      "Epoch: 0009 cost= 7.234415531\n",
      "Epoch: 0010 cost= 6.557408333\n",
      "Epoch: 0011 cost= 8.774991989\n",
      "Epoch: 0012 cost= 9.626042366\n",
      "Epoch: 0013 cost= 7.505567074\n",
      "Epoch: 0014 cost= 7.370026588\n",
      "Epoch: 0015 cost= 8.745357513\n",
      "Epoch: 0016 cost= 12.278505325\n",
      "Epoch: 0017 cost= 4.374318123\n",
      "Epoch: 0018 cost= 6.300874233\n",
      "Epoch: 0019 cost= 8.586445808\n",
      "Epoch: 0020 cost= 6.576582909\n",
      "Optimization Finished!\n",
      "Accuracy: 0.835938\n"
     ]
    }
   ],
   "source": [
    "import tensorflow as tf\n",
    "from tensorflow.examples.tutorials.mnist import input_data\n",
    "mnist = input_data.read_data_sets(\".\", one_hot = True, reshape = False)\n",
    "\n",
    "learning_rate = 0.001\n",
    "training_epochs = 20\n",
    "batch_size = 128\n",
    "display_step = 1\n",
    "\n",
    "n_input = 784 #28 * 28\n",
    "n_classes = 10 #0 - 9\n",
    "\n",
    "n_hidden_layer = 256\n",
    "\n",
    "weights = {\n",
    "    \"hidden_layer\": tf.Variable(tf.random_normal([n_input, n_hidden_layer])),\n",
    "    \"out\": tf.Variable(tf.random_normal([n_hidden_layer, n_classes]))    \n",
    "}\n",
    "\n",
    "biases = {\n",
    "    \"hidden_layer\": tf.Variable(tf.random_normal([n_hidden_layer])),\n",
    "    \"out\": tf.Variable(tf.random_normal([n_classes]))        \n",
    "}\n",
    "\n",
    "x = tf.placeholder(\"float\", [None, 28, 28, 1])\n",
    "y = tf.placeholder(\"float\", [None, n_classes])\n",
    "\n",
    "x_flat = tf.reshape(x, [-1, n_input])\n",
    "\n",
    "\n",
    "layer1 = tf.add(tf.matmul(x_flat, weights[\"hidden_layer\"]), biases[\"hidden_layer\"])\n",
    "relu_layer1 = tf.nn.relu(layer1)\n",
    "logits = tf.add(tf.matmul(relu_layer1, weights[\"out\"]), biases[\"out\"])\n",
    "\n",
    "cost = tf.reduce_mean(tf.nn.softmax_cross_entropy_with_logits(logits, y))\n",
    "optimizer = tf.train.GradientDescentOptimizer(learning_rate = learning_rate).minimize(cost)\n",
    "\n",
    "with tf.Session() as sess:\n",
    "    sess.run(tf.global_variables_initializer())\n",
    "    for epoch in range(training_epochs):\n",
    "        total_batch = int(mnist.train.num_examples/batch_size)\n",
    "        \n",
    "        for i in range(total_batch):\n",
    "            batch_x, batch_y = mnist.train.next_batch(batch_size)\n",
    "            sess.run(optimizer, feed_dict = {x: batch_x, y: batch_y})\n",
    "        \n",
    "        if epoch % display_step == 0:\n",
    "            c = sess.run(cost, feed_dict = {x: batch_x, y: batch_y})\n",
    "            print(\"Epoch:\", '%04d' % (epoch+1), \"cost=\", \\\n",
    "                \"{:.9f}\".format(c))\n",
    "    print(\"Optimization Finished!\")\n",
    "\n",
    "    # Test model\n",
    "    correct_prediction = tf.equal(tf.argmax(logits, 1), tf.argmax(y, 1))\n",
    "    # Calculate accuracy\n",
    "    accuracy = tf.reduce_mean(tf.cast(correct_prediction, \"float\"))\n",
    "    # Decrease test_size if you don't have enough memory\n",
    "    test_size = 256\n",
    "    print(\"Accuracy:\", accuracy.eval({x: mnist.test.images[:test_size], y: mnist.test.labels[:test_size]}))"
   ]
  },
  {
   "cell_type": "code",
   "execution_count": null,
   "metadata": {
    "collapsed": true
   },
   "outputs": [],
   "source": []
  }
 ],
 "metadata": {
  "anaconda-cloud": {},
  "kernelspec": {
   "display_name": "Python [conda env:py3]",
   "language": "python",
   "name": "conda-env-py3-py"
  },
  "language_info": {
   "codemirror_mode": {
    "name": "ipython",
    "version": 3
   },
   "file_extension": ".py",
   "mimetype": "text/x-python",
   "name": "python",
   "nbconvert_exporter": "python",
   "pygments_lexer": "ipython3",
   "version": "3.5.2"
  }
 },
 "nbformat": 4,
 "nbformat_minor": 1
}
